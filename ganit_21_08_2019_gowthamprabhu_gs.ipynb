{
 "cells": [
  {
   "cell_type": "markdown",
   "metadata": {},
   "source": [
    "<a id='top'></a>\n",
    "This notebook contains all the code used to find the answers requested. Below mentioned hyperlinks can be used to navigate between answers.\n",
    "\n",
    "### Note : All files have been exported to Microsoft Excel 2013 format (.xlsx) \n",
    "\n",
    "[Data Cleaning](#clean)    \n",
    "[Merging of data](#merge)   \n",
    "[Question 1](#q1)   \n",
    "[Question 2](#q2)   \n",
    "[Question 3](#q3)   \n",
    "[Question 4](#q4)   \n",
    "[Bonus Questions](#bonus)   \n",
    "[Bonus Question 1](#bq1)   \n",
    "[Bonus Question 2](#bq2)   \n",
    "[Bonus Question 3](#bq3)   \n",
    "[Bonus Question 4](#bq4)   "
   ]
  },
  {
   "cell_type": "code",
   "execution_count": 1,
   "metadata": {},
   "outputs": [],
   "source": [
    "import numpy as np\n",
    "import pandas as pd"
   ]
  },
  {
   "cell_type": "code",
   "execution_count": 2,
   "metadata": {
    "scrolled": false
   },
   "outputs": [],
   "source": [
    "# Read all the input files\n",
    "\n",
    "info_df = pd.read_excel('file_01.xlsx')\n",
    "cost_df = pd.read_excel('file_02.xlsx')\n",
    "zone_df = pd.read_excel('file_04.xlsx')"
   ]
  },
  {
   "cell_type": "code",
   "execution_count": 3,
   "metadata": {},
   "outputs": [
    {
     "data": {
      "text/html": [
       "<div>\n",
       "<style scoped>\n",
       "    .dataframe tbody tr th:only-of-type {\n",
       "        vertical-align: middle;\n",
       "    }\n",
       "\n",
       "    .dataframe tbody tr th {\n",
       "        vertical-align: top;\n",
       "    }\n",
       "\n",
       "    .dataframe thead th {\n",
       "        text-align: right;\n",
       "    }\n",
       "</style>\n",
       "<table border=\"1\" class=\"dataframe\">\n",
       "  <thead>\n",
       "    <tr style=\"text-align: right;\">\n",
       "      <th></th>\n",
       "      <th>supplier_location</th>\n",
       "      <th>customer_location</th>\n",
       "      <th>shpment_size</th>\n",
       "      <th>payment_option</th>\n",
       "      <th>product_quantity</th>\n",
       "      <th>current_logistics_vendor</th>\n",
       "    </tr>\n",
       "  </thead>\n",
       "  <tbody>\n",
       "    <tr>\n",
       "      <th>0</th>\n",
       "      <td>facility_01</td>\n",
       "      <td>201301</td>\n",
       "      <td>small</td>\n",
       "      <td>cod</td>\n",
       "      <td>2156</td>\n",
       "      <td>v1</td>\n",
       "    </tr>\n",
       "    <tr>\n",
       "      <th>1</th>\n",
       "      <td>facility_01</td>\n",
       "      <td>122001</td>\n",
       "      <td>small</td>\n",
       "      <td>cod</td>\n",
       "      <td>1859</td>\n",
       "      <td>v1</td>\n",
       "    </tr>\n",
       "    <tr>\n",
       "      <th>2</th>\n",
       "      <td>facility_01</td>\n",
       "      <td>248001</td>\n",
       "      <td>small</td>\n",
       "      <td>cod</td>\n",
       "      <td>1805</td>\n",
       "      <td>v1</td>\n",
       "    </tr>\n",
       "    <tr>\n",
       "      <th>3</th>\n",
       "      <td>facility_01</td>\n",
       "      <td>201301</td>\n",
       "      <td>small</td>\n",
       "      <td>prepaid</td>\n",
       "      <td>1555</td>\n",
       "      <td>v1</td>\n",
       "    </tr>\n",
       "    <tr>\n",
       "      <th>4</th>\n",
       "      <td>facility_01</td>\n",
       "      <td>800001</td>\n",
       "      <td>small</td>\n",
       "      <td>cod</td>\n",
       "      <td>1508</td>\n",
       "      <td>v1</td>\n",
       "    </tr>\n",
       "  </tbody>\n",
       "</table>\n",
       "</div>"
      ],
      "text/plain": [
       "  supplier_location  customer_location shpment_size payment_option  \\\n",
       "0       facility_01             201301        small            cod   \n",
       "1       facility_01             122001        small            cod   \n",
       "2       facility_01             248001        small            cod   \n",
       "3       facility_01             201301        small        prepaid   \n",
       "4       facility_01             800001        small            cod   \n",
       "\n",
       "   product_quantity current_logistics_vendor  \n",
       "0              2156                       v1  \n",
       "1              1859                       v1  \n",
       "2              1805                       v1  \n",
       "3              1555                       v1  \n",
       "4              1508                       v1  "
      ]
     },
     "execution_count": 3,
     "metadata": {},
     "output_type": "execute_result"
    }
   ],
   "source": [
    "# Info df contains product quantities, and source to destination information\n",
    "\n",
    "info_df.head()"
   ]
  },
  {
   "cell_type": "code",
   "execution_count": 4,
   "metadata": {},
   "outputs": [
    {
     "data": {
      "text/html": [
       "<div>\n",
       "<style scoped>\n",
       "    .dataframe tbody tr th:only-of-type {\n",
       "        vertical-align: middle;\n",
       "    }\n",
       "\n",
       "    .dataframe tbody tr th {\n",
       "        vertical-align: top;\n",
       "    }\n",
       "\n",
       "    .dataframe thead th {\n",
       "        text-align: right;\n",
       "    }\n",
       "</style>\n",
       "<table border=\"1\" class=\"dataframe\">\n",
       "  <thead>\n",
       "    <tr style=\"text-align: right;\">\n",
       "      <th></th>\n",
       "      <th>zone</th>\n",
       "      <th>mode</th>\n",
       "      <th>size</th>\n",
       "      <th>cost_with_vendor_v1</th>\n",
       "      <th>cost_with_vendor_v2</th>\n",
       "      <th>cost_with_vendor_v3</th>\n",
       "      <th>cost_with_vendor_v4</th>\n",
       "    </tr>\n",
       "  </thead>\n",
       "  <tbody>\n",
       "    <tr>\n",
       "      <th>0</th>\n",
       "      <td>zone_C</td>\n",
       "      <td>cod</td>\n",
       "      <td>large</td>\n",
       "      <td>1480</td>\n",
       "      <td>1480</td>\n",
       "      <td>1100</td>\n",
       "      <td>1080</td>\n",
       "    </tr>\n",
       "    <tr>\n",
       "      <th>1</th>\n",
       "      <td>zone_C</td>\n",
       "      <td>cod</td>\n",
       "      <td>medium</td>\n",
       "      <td>480</td>\n",
       "      <td>560</td>\n",
       "      <td>410</td>\n",
       "      <td>410</td>\n",
       "    </tr>\n",
       "    <tr>\n",
       "      <th>2</th>\n",
       "      <td>zone_C</td>\n",
       "      <td>cod</td>\n",
       "      <td>small</td>\n",
       "      <td>90</td>\n",
       "      <td>120</td>\n",
       "      <td>80</td>\n",
       "      <td>80</td>\n",
       "    </tr>\n",
       "    <tr>\n",
       "      <th>3</th>\n",
       "      <td>zone_C</td>\n",
       "      <td>prepaid</td>\n",
       "      <td>large</td>\n",
       "      <td>1450</td>\n",
       "      <td>1430</td>\n",
       "      <td>1040</td>\n",
       "      <td>1050</td>\n",
       "    </tr>\n",
       "    <tr>\n",
       "      <th>4</th>\n",
       "      <td>zone_C</td>\n",
       "      <td>prepaid</td>\n",
       "      <td>medium</td>\n",
       "      <td>450</td>\n",
       "      <td>510</td>\n",
       "      <td>380</td>\n",
       "      <td>370</td>\n",
       "    </tr>\n",
       "  </tbody>\n",
       "</table>\n",
       "</div>"
      ],
      "text/plain": [
       "     zone     mode    size  cost_with_vendor_v1  cost_with_vendor_v2  \\\n",
       "0  zone_C      cod   large                 1480                 1480   \n",
       "1  zone_C      cod  medium                  480                  560   \n",
       "2  zone_C      cod   small                   90                  120   \n",
       "3  zone_C  prepaid   large                 1450                 1430   \n",
       "4  zone_C  prepaid  medium                  450                  510   \n",
       "\n",
       "   cost_with_vendor_v3  cost_with_vendor_v4  \n",
       "0                 1100                 1080  \n",
       "1                  410                  410  \n",
       "2                   80                   80  \n",
       "3                 1040                 1050  \n",
       "4                  380                  370  "
      ]
     },
     "execution_count": 4,
     "metadata": {},
     "output_type": "execute_result"
    }
   ],
   "source": [
    "# cost_df contains cost per product for each vendor\n",
    "\n",
    "cost_df.head()"
   ]
  },
  {
   "cell_type": "code",
   "execution_count": 5,
   "metadata": {
    "scrolled": false
   },
   "outputs": [
    {
     "data": {
      "text/html": [
       "<div>\n",
       "<style scoped>\n",
       "    .dataframe tbody tr th:only-of-type {\n",
       "        vertical-align: middle;\n",
       "    }\n",
       "\n",
       "    .dataframe tbody tr th {\n",
       "        vertical-align: top;\n",
       "    }\n",
       "\n",
       "    .dataframe thead th {\n",
       "        text-align: right;\n",
       "    }\n",
       "</style>\n",
       "<table border=\"1\" class=\"dataframe\">\n",
       "  <thead>\n",
       "    <tr style=\"text-align: right;\">\n",
       "      <th></th>\n",
       "      <th>source</th>\n",
       "      <th>destination</th>\n",
       "      <th>shipment_zone</th>\n",
       "    </tr>\n",
       "  </thead>\n",
       "  <tbody>\n",
       "    <tr>\n",
       "      <th>0</th>\n",
       "      <td>facility_06</td>\n",
       "      <td>110001</td>\n",
       "      <td>zone_a</td>\n",
       "    </tr>\n",
       "    <tr>\n",
       "      <th>1</th>\n",
       "      <td>facility_06</td>\n",
       "      <td>110001</td>\n",
       "      <td>zone_a</td>\n",
       "    </tr>\n",
       "    <tr>\n",
       "      <th>2</th>\n",
       "      <td>facility_06</td>\n",
       "      <td>110001</td>\n",
       "      <td>zone_a</td>\n",
       "    </tr>\n",
       "    <tr>\n",
       "      <th>3</th>\n",
       "      <td>facility_06</td>\n",
       "      <td>110001</td>\n",
       "      <td>zone_a</td>\n",
       "    </tr>\n",
       "    <tr>\n",
       "      <th>4</th>\n",
       "      <td>facility_06</td>\n",
       "      <td>110001</td>\n",
       "      <td>zone_a</td>\n",
       "    </tr>\n",
       "  </tbody>\n",
       "</table>\n",
       "</div>"
      ],
      "text/plain": [
       "        source  destination shipment_zone\n",
       "0  facility_06       110001        zone_a\n",
       "1  facility_06       110001        zone_a\n",
       "2  facility_06       110001        zone_a\n",
       "3  facility_06       110001        zone_a\n",
       "4  facility_06       110001        zone_a"
      ]
     },
     "execution_count": 5,
     "metadata": {},
     "output_type": "execute_result"
    }
   ],
   "source": [
    "# zone df contains zone information\n",
    "\n",
    "zone_df.head()"
   ]
  },
  {
   "cell_type": "markdown",
   "metadata": {},
   "source": [
    "### Data Cleaning and exploration\n",
    "<a id='clean' ></a>\n",
    "[Back to Top](#top)"
   ]
  },
  {
   "cell_type": "code",
   "execution_count": 6,
   "metadata": {},
   "outputs": [
    {
     "name": "stdout",
     "output_type": "stream",
     "text": [
      "<class 'pandas.core.frame.DataFrame'>\n",
      "RangeIndex: 92851 entries, 0 to 92850\n",
      "Data columns (total 6 columns):\n",
      "supplier_location           92851 non-null object\n",
      "customer_location           92851 non-null int64\n",
      "shpment_size                92851 non-null object\n",
      "payment_option              92851 non-null object\n",
      "product_quantity            92851 non-null int64\n",
      "current_logistics_vendor    92851 non-null object\n",
      "dtypes: int64(2), object(4)\n",
      "memory usage: 4.3+ MB\n"
     ]
    }
   ],
   "source": [
    "info_df.info()"
   ]
  },
  {
   "cell_type": "code",
   "execution_count": 7,
   "metadata": {},
   "outputs": [
    {
     "data": {
      "text/plain": [
       "array(['facility_01', 'facility_02', 'facility_03', 'facility_04',\n",
       "       'facility_05', 'facility_06', 'facility_07', 'facility_08',\n",
       "       'facility_09', 'facility_10'], dtype=object)"
      ]
     },
     "execution_count": 7,
     "metadata": {},
     "output_type": "execute_result"
    }
   ],
   "source": [
    "info_df.supplier_location.unique()"
   ]
  },
  {
   "cell_type": "code",
   "execution_count": 8,
   "metadata": {},
   "outputs": [
    {
     "name": "stdout",
     "output_type": "stream",
     "text": [
      "<class 'pandas.core.frame.DataFrame'>\n",
      "RangeIndex: 18 entries, 0 to 17\n",
      "Data columns (total 7 columns):\n",
      "zone                   18 non-null object\n",
      "mode                   18 non-null object\n",
      "size                   18 non-null object\n",
      "cost_with_vendor_v1    18 non-null int64\n",
      "cost_with_vendor_v2    18 non-null int64\n",
      "cost_with_vendor_v3    18 non-null int64\n",
      "cost_with_vendor_v4    18 non-null int64\n",
      "dtypes: int64(4), object(3)\n",
      "memory usage: 1.1+ KB\n"
     ]
    }
   ],
   "source": [
    "cost_df.info()"
   ]
  },
  {
   "cell_type": "code",
   "execution_count": 9,
   "metadata": {},
   "outputs": [
    {
     "data": {
      "text/plain": [
       "array(['cod', 'prepaid', 'COD'], dtype=object)"
      ]
     },
     "execution_count": 9,
     "metadata": {},
     "output_type": "execute_result"
    }
   ],
   "source": [
    "cost_df['mode'].unique()"
   ]
  },
  {
   "cell_type": "code",
   "execution_count": 10,
   "metadata": {},
   "outputs": [
    {
     "name": "stdout",
     "output_type": "stream",
     "text": [
      "<class 'pandas.core.frame.DataFrame'>\n",
      "RangeIndex: 92851 entries, 0 to 92850\n",
      "Data columns (total 3 columns):\n",
      "source           92851 non-null object\n",
      "destination      92851 non-null int64\n",
      "shipment_zone    92851 non-null object\n",
      "dtypes: int64(1), object(2)\n",
      "memory usage: 2.1+ MB\n"
     ]
    }
   ],
   "source": [
    "zone_df.info()"
   ]
  },
  {
   "cell_type": "code",
   "execution_count": 11,
   "metadata": {
    "scrolled": true
   },
   "outputs": [
    {
     "data": {
      "text/plain": [
       "array(['facility_06', 'facility_02', 'facility_01', 'facility_10',\n",
       "       'facility_07', 'facility_08', 'facility_04', 'facility_03',\n",
       "       'facility_05', 'facility_09'], dtype=object)"
      ]
     },
     "execution_count": 11,
     "metadata": {},
     "output_type": "execute_result"
    }
   ],
   "source": [
    "zone_df.source.unique()"
   ]
  },
  {
   "cell_type": "code",
   "execution_count": 12,
   "metadata": {
    "scrolled": false
   },
   "outputs": [],
   "source": [
    "# Renaming few columns for convenience\n",
    "\n",
    "info_df.rename(columns={'shpment_size':'shipment_size'}, inplace=True)\n",
    "cost_df.rename(columns={'zone_C':'zone_c', 'Zone_B':'zone_b', 'size':'shipment_size', 'mode':'payment_option'}, inplace=True)"
   ]
  },
  {
   "cell_type": "code",
   "execution_count": 29,
   "metadata": {},
   "outputs": [],
   "source": [
    "# Making payment option column as all small letters\n",
    "cost_df['payment_option'] = cost_df.payment_option.apply(lambda x : x.lower())\n",
    "cost_df['zone'] = cost_df.zone.apply(lambda x : x.lower())"
   ]
  },
  {
   "cell_type": "code",
   "execution_count": 22,
   "metadata": {},
   "outputs": [],
   "source": [
    "# Zone df has duplicates, removing them\n",
    "\n",
    "zone_df_orig = zone_df.copy()\n",
    "zone_df.drop_duplicates(inplace=True)"
   ]
  },
  {
   "cell_type": "markdown",
   "metadata": {},
   "source": [
    "# Merging all data into one dataframe\n",
    "\n",
    "<a id='merge'></a>\n",
    "[Back to Top](#top)"
   ]
  },
  {
   "cell_type": "markdown",
   "metadata": {},
   "source": [
    "Note: Since either zone_df duplicates can be removed before merge, or after merge. But before merge will be faster"
   ]
  },
  {
   "cell_type": "code",
   "execution_count": 25,
   "metadata": {
    "scrolled": false
   },
   "outputs": [],
   "source": [
    "info_zone_df = pd.merge(left=info_df.copy(), right=zone_df.copy(), left_on=['supplier_location', 'customer_location'], right_on=['source', 'destination'], how='left')\n",
    "info_zone_df.drop(columns=['source', 'destination'], inplace=True)"
   ]
  },
  {
   "cell_type": "code",
   "execution_count": 26,
   "metadata": {
    "scrolled": true
   },
   "outputs": [
    {
     "data": {
      "text/html": [
       "<div>\n",
       "<style scoped>\n",
       "    .dataframe tbody tr th:only-of-type {\n",
       "        vertical-align: middle;\n",
       "    }\n",
       "\n",
       "    .dataframe tbody tr th {\n",
       "        vertical-align: top;\n",
       "    }\n",
       "\n",
       "    .dataframe thead th {\n",
       "        text-align: right;\n",
       "    }\n",
       "</style>\n",
       "<table border=\"1\" class=\"dataframe\">\n",
       "  <thead>\n",
       "    <tr style=\"text-align: right;\">\n",
       "      <th></th>\n",
       "      <th>supplier_location</th>\n",
       "      <th>customer_location</th>\n",
       "      <th>shipment_size</th>\n",
       "      <th>payment_option</th>\n",
       "      <th>product_quantity</th>\n",
       "      <th>current_logistics_vendor</th>\n",
       "      <th>shipment_zone</th>\n",
       "    </tr>\n",
       "  </thead>\n",
       "  <tbody>\n",
       "    <tr>\n",
       "      <th>0</th>\n",
       "      <td>facility_01</td>\n",
       "      <td>201301</td>\n",
       "      <td>small</td>\n",
       "      <td>cod</td>\n",
       "      <td>2156</td>\n",
       "      <td>v1</td>\n",
       "      <td>zone_a</td>\n",
       "    </tr>\n",
       "    <tr>\n",
       "      <th>1</th>\n",
       "      <td>facility_01</td>\n",
       "      <td>122001</td>\n",
       "      <td>small</td>\n",
       "      <td>cod</td>\n",
       "      <td>1859</td>\n",
       "      <td>v1</td>\n",
       "      <td>zone_a</td>\n",
       "    </tr>\n",
       "    <tr>\n",
       "      <th>2</th>\n",
       "      <td>facility_01</td>\n",
       "      <td>248001</td>\n",
       "      <td>small</td>\n",
       "      <td>cod</td>\n",
       "      <td>1805</td>\n",
       "      <td>v1</td>\n",
       "      <td>zone_b</td>\n",
       "    </tr>\n",
       "    <tr>\n",
       "      <th>3</th>\n",
       "      <td>facility_01</td>\n",
       "      <td>201301</td>\n",
       "      <td>small</td>\n",
       "      <td>prepaid</td>\n",
       "      <td>1555</td>\n",
       "      <td>v1</td>\n",
       "      <td>zone_a</td>\n",
       "    </tr>\n",
       "    <tr>\n",
       "      <th>4</th>\n",
       "      <td>facility_01</td>\n",
       "      <td>800001</td>\n",
       "      <td>small</td>\n",
       "      <td>cod</td>\n",
       "      <td>1508</td>\n",
       "      <td>v1</td>\n",
       "      <td>zone_c</td>\n",
       "    </tr>\n",
       "  </tbody>\n",
       "</table>\n",
       "</div>"
      ],
      "text/plain": [
       "  supplier_location  customer_location shipment_size payment_option  \\\n",
       "0       facility_01             201301         small            cod   \n",
       "1       facility_01             122001         small            cod   \n",
       "2       facility_01             248001         small            cod   \n",
       "3       facility_01             201301         small        prepaid   \n",
       "4       facility_01             800001         small            cod   \n",
       "\n",
       "   product_quantity current_logistics_vendor shipment_zone  \n",
       "0              2156                       v1        zone_a  \n",
       "1              1859                       v1        zone_a  \n",
       "2              1805                       v1        zone_b  \n",
       "3              1555                       v1        zone_a  \n",
       "4              1508                       v1        zone_c  "
      ]
     },
     "execution_count": 26,
     "metadata": {},
     "output_type": "execute_result"
    }
   ],
   "source": [
    "info_zone_df.head()"
   ]
  },
  {
   "cell_type": "code",
   "execution_count": 30,
   "metadata": {},
   "outputs": [
    {
     "name": "stdout",
     "output_type": "stream",
     "text": [
      "<class 'pandas.core.frame.DataFrame'>\n",
      "Int64Index: 92851 entries, 0 to 92850\n",
      "Data columns (total 7 columns):\n",
      "supplier_location           92851 non-null object\n",
      "customer_location           92851 non-null int64\n",
      "shipment_size               92851 non-null object\n",
      "payment_option              92851 non-null object\n",
      "product_quantity            92851 non-null int64\n",
      "current_logistics_vendor    92851 non-null object\n",
      "shipment_zone               92851 non-null object\n",
      "dtypes: int64(2), object(5)\n",
      "memory usage: 5.7+ MB\n"
     ]
    }
   ],
   "source": [
    "info_zone_df.info()"
   ]
  },
  {
   "cell_type": "code",
   "execution_count": 35,
   "metadata": {},
   "outputs": [],
   "source": [
    "left_on = ['shipment_zone', 'payment_option', 'shipment_size']\n",
    "right_on = ['zone', 'payment_option', 'shipment_size']\n",
    "op_df = pd.merge(left=info_zone_df.copy(), right=cost_df.copy(), left_on=left_on, right_on=right_on, how='left')\n",
    "op_df.drop(columns=['zone'], inplace=True)"
   ]
  },
  {
   "cell_type": "code",
   "execution_count": 36,
   "metadata": {
    "scrolled": true
   },
   "outputs": [
    {
     "data": {
      "text/html": [
       "<div>\n",
       "<style scoped>\n",
       "    .dataframe tbody tr th:only-of-type {\n",
       "        vertical-align: middle;\n",
       "    }\n",
       "\n",
       "    .dataframe tbody tr th {\n",
       "        vertical-align: top;\n",
       "    }\n",
       "\n",
       "    .dataframe thead th {\n",
       "        text-align: right;\n",
       "    }\n",
       "</style>\n",
       "<table border=\"1\" class=\"dataframe\">\n",
       "  <thead>\n",
       "    <tr style=\"text-align: right;\">\n",
       "      <th></th>\n",
       "      <th>supplier_location</th>\n",
       "      <th>customer_location</th>\n",
       "      <th>shipment_size</th>\n",
       "      <th>payment_option</th>\n",
       "      <th>product_quantity</th>\n",
       "      <th>current_logistics_vendor</th>\n",
       "      <th>shipment_zone</th>\n",
       "      <th>cost_with_vendor_v1</th>\n",
       "      <th>cost_with_vendor_v2</th>\n",
       "      <th>cost_with_vendor_v3</th>\n",
       "      <th>cost_with_vendor_v4</th>\n",
       "    </tr>\n",
       "  </thead>\n",
       "  <tbody>\n",
       "    <tr>\n",
       "      <th>0</th>\n",
       "      <td>facility_01</td>\n",
       "      <td>201301</td>\n",
       "      <td>small</td>\n",
       "      <td>cod</td>\n",
       "      <td>2156</td>\n",
       "      <td>v1</td>\n",
       "      <td>zone_a</td>\n",
       "      <td>50</td>\n",
       "      <td>90</td>\n",
       "      <td>50</td>\n",
       "      <td>60</td>\n",
       "    </tr>\n",
       "    <tr>\n",
       "      <th>1</th>\n",
       "      <td>facility_01</td>\n",
       "      <td>122001</td>\n",
       "      <td>small</td>\n",
       "      <td>cod</td>\n",
       "      <td>1859</td>\n",
       "      <td>v1</td>\n",
       "      <td>zone_a</td>\n",
       "      <td>50</td>\n",
       "      <td>90</td>\n",
       "      <td>50</td>\n",
       "      <td>60</td>\n",
       "    </tr>\n",
       "    <tr>\n",
       "      <th>2</th>\n",
       "      <td>facility_01</td>\n",
       "      <td>248001</td>\n",
       "      <td>small</td>\n",
       "      <td>cod</td>\n",
       "      <td>1805</td>\n",
       "      <td>v1</td>\n",
       "      <td>zone_b</td>\n",
       "      <td>60</td>\n",
       "      <td>90</td>\n",
       "      <td>60</td>\n",
       "      <td>70</td>\n",
       "    </tr>\n",
       "    <tr>\n",
       "      <th>3</th>\n",
       "      <td>facility_01</td>\n",
       "      <td>201301</td>\n",
       "      <td>small</td>\n",
       "      <td>prepaid</td>\n",
       "      <td>1555</td>\n",
       "      <td>v1</td>\n",
       "      <td>zone_a</td>\n",
       "      <td>30</td>\n",
       "      <td>30</td>\n",
       "      <td>30</td>\n",
       "      <td>30</td>\n",
       "    </tr>\n",
       "    <tr>\n",
       "      <th>4</th>\n",
       "      <td>facility_01</td>\n",
       "      <td>800001</td>\n",
       "      <td>small</td>\n",
       "      <td>cod</td>\n",
       "      <td>1508</td>\n",
       "      <td>v1</td>\n",
       "      <td>zone_c</td>\n",
       "      <td>90</td>\n",
       "      <td>120</td>\n",
       "      <td>80</td>\n",
       "      <td>80</td>\n",
       "    </tr>\n",
       "  </tbody>\n",
       "</table>\n",
       "</div>"
      ],
      "text/plain": [
       "  supplier_location  customer_location shipment_size payment_option  \\\n",
       "0       facility_01             201301         small            cod   \n",
       "1       facility_01             122001         small            cod   \n",
       "2       facility_01             248001         small            cod   \n",
       "3       facility_01             201301         small        prepaid   \n",
       "4       facility_01             800001         small            cod   \n",
       "\n",
       "   product_quantity current_logistics_vendor shipment_zone  \\\n",
       "0              2156                       v1        zone_a   \n",
       "1              1859                       v1        zone_a   \n",
       "2              1805                       v1        zone_b   \n",
       "3              1555                       v1        zone_a   \n",
       "4              1508                       v1        zone_c   \n",
       "\n",
       "   cost_with_vendor_v1  cost_with_vendor_v2  cost_with_vendor_v3  \\\n",
       "0                   50                   90                   50   \n",
       "1                   50                   90                   50   \n",
       "2                   60                   90                   60   \n",
       "3                   30                   30                   30   \n",
       "4                   90                  120                   80   \n",
       "\n",
       "   cost_with_vendor_v4  \n",
       "0                   60  \n",
       "1                   60  \n",
       "2                   70  \n",
       "3                   30  \n",
       "4                   80  "
      ]
     },
     "execution_count": 36,
     "metadata": {},
     "output_type": "execute_result"
    }
   ],
   "source": [
    "# Final DataFrame with Information merged from all the three dataframes accordingly\n",
    "op_df.head()"
   ]
  },
  {
   "cell_type": "markdown",
   "metadata": {},
   "source": [
    "## Question 1\n",
    "<a id='q1'></a>\n",
    "\n",
    "What is the current vendor wise supply volume distributed\n",
    "\n",
    "[Back to Top](#top)\n",
    "\n",
    "Answer:   \n",
    "v1    88.416936   \n",
    "v2     2.693742   \n",
    "v3     3.328928   \n",
    "v4     5.560394   "
   ]
  },
  {
   "cell_type": "code",
   "execution_count": 53,
   "metadata": {},
   "outputs": [
    {
     "data": {
      "text/plain": [
       "current_logistics_vendor\n",
       "v1    3099255\n",
       "v2      94423\n",
       "v3     116688\n",
       "v4     194907\n",
       "Name: product_quantity, dtype: int64"
      ]
     },
     "execution_count": 53,
     "metadata": {},
     "output_type": "execute_result"
    }
   ],
   "source": [
    "quantities = op_df.groupby(by='current_logistics_vendor')['product_quantity'].sum()\n",
    "quantities"
   ]
  },
  {
   "cell_type": "markdown",
   "metadata": {},
   "source": [
    "The vendor wise volume based on **product quantity** ignoring the shipment size is as below"
   ]
  },
  {
   "cell_type": "code",
   "execution_count": 157,
   "metadata": {},
   "outputs": [
    {
     "data": {
      "text/plain": [
       "current_logistics_vendor\n",
       "v1    88.416936\n",
       "v2     2.693742\n",
       "v3     3.328928\n",
       "v4     5.560394\n",
       "Name: product_quantity, dtype: float64"
      ]
     },
     "execution_count": 157,
     "metadata": {},
     "output_type": "execute_result"
    }
   ],
   "source": [
    "old_volume = quantities/quantities.sum() * 100\n",
    "old_volume"
   ]
  },
  {
   "cell_type": "markdown",
   "metadata": {},
   "source": [
    "## Question 2\n",
    "What is the current vendor wise cost incurred for fulfilling the supply network ?\n",
    "\n",
    "<a id='q2'></a>\n",
    "[Back to Top](#top)\n",
    "\n",
    "Answer :    \n",
    "v1    370038040   \n",
    "v2     12276540   \n",
    "v3     12715930   \n",
    "v4     19999380   "
   ]
  },
  {
   "cell_type": "code",
   "execution_count": 68,
   "metadata": {},
   "outputs": [],
   "source": [
    "# Creating current cost column\n",
    "final_df = op_df.copy()\n",
    "vendors = op_df.current_logistics_vendor.unique()\n",
    "for vendor in vendors:\n",
    "    tdf = op_df[op_df.current_logistics_vendor == vendor].copy()\n",
    "    tdf['current_cost'] = tdf.product_quantity * tdf['cost_with_vendor_{}'.format(str(vendor))]\n",
    "    final_df.loc[tdf.index, 'current_cost'] = tdf.current_cost.copy()"
   ]
  },
  {
   "cell_type": "code",
   "execution_count": 76,
   "metadata": {},
   "outputs": [
    {
     "data": {
      "text/html": [
       "<div>\n",
       "<style scoped>\n",
       "    .dataframe tbody tr th:only-of-type {\n",
       "        vertical-align: middle;\n",
       "    }\n",
       "\n",
       "    .dataframe tbody tr th {\n",
       "        vertical-align: top;\n",
       "    }\n",
       "\n",
       "    .dataframe thead th {\n",
       "        text-align: right;\n",
       "    }\n",
       "</style>\n",
       "<table border=\"1\" class=\"dataframe\">\n",
       "  <thead>\n",
       "    <tr style=\"text-align: right;\">\n",
       "      <th></th>\n",
       "      <th>supplier_location</th>\n",
       "      <th>customer_location</th>\n",
       "      <th>shipment_size</th>\n",
       "      <th>payment_option</th>\n",
       "      <th>product_quantity</th>\n",
       "      <th>current_logistics_vendor</th>\n",
       "      <th>shipment_zone</th>\n",
       "      <th>cost_with_vendor_v1</th>\n",
       "      <th>cost_with_vendor_v2</th>\n",
       "      <th>cost_with_vendor_v3</th>\n",
       "      <th>cost_with_vendor_v4</th>\n",
       "      <th>current_cost</th>\n",
       "    </tr>\n",
       "  </thead>\n",
       "  <tbody>\n",
       "    <tr>\n",
       "      <th>0</th>\n",
       "      <td>facility_01</td>\n",
       "      <td>201301</td>\n",
       "      <td>small</td>\n",
       "      <td>cod</td>\n",
       "      <td>2156</td>\n",
       "      <td>v1</td>\n",
       "      <td>zone_a</td>\n",
       "      <td>50</td>\n",
       "      <td>90</td>\n",
       "      <td>50</td>\n",
       "      <td>60</td>\n",
       "      <td>107800.0</td>\n",
       "    </tr>\n",
       "    <tr>\n",
       "      <th>1</th>\n",
       "      <td>facility_01</td>\n",
       "      <td>122001</td>\n",
       "      <td>small</td>\n",
       "      <td>cod</td>\n",
       "      <td>1859</td>\n",
       "      <td>v1</td>\n",
       "      <td>zone_a</td>\n",
       "      <td>50</td>\n",
       "      <td>90</td>\n",
       "      <td>50</td>\n",
       "      <td>60</td>\n",
       "      <td>92950.0</td>\n",
       "    </tr>\n",
       "    <tr>\n",
       "      <th>2</th>\n",
       "      <td>facility_01</td>\n",
       "      <td>248001</td>\n",
       "      <td>small</td>\n",
       "      <td>cod</td>\n",
       "      <td>1805</td>\n",
       "      <td>v1</td>\n",
       "      <td>zone_b</td>\n",
       "      <td>60</td>\n",
       "      <td>90</td>\n",
       "      <td>60</td>\n",
       "      <td>70</td>\n",
       "      <td>108300.0</td>\n",
       "    </tr>\n",
       "    <tr>\n",
       "      <th>3</th>\n",
       "      <td>facility_01</td>\n",
       "      <td>201301</td>\n",
       "      <td>small</td>\n",
       "      <td>prepaid</td>\n",
       "      <td>1555</td>\n",
       "      <td>v1</td>\n",
       "      <td>zone_a</td>\n",
       "      <td>30</td>\n",
       "      <td>30</td>\n",
       "      <td>30</td>\n",
       "      <td>30</td>\n",
       "      <td>46650.0</td>\n",
       "    </tr>\n",
       "    <tr>\n",
       "      <th>4</th>\n",
       "      <td>facility_01</td>\n",
       "      <td>800001</td>\n",
       "      <td>small</td>\n",
       "      <td>cod</td>\n",
       "      <td>1508</td>\n",
       "      <td>v1</td>\n",
       "      <td>zone_c</td>\n",
       "      <td>90</td>\n",
       "      <td>120</td>\n",
       "      <td>80</td>\n",
       "      <td>80</td>\n",
       "      <td>135720.0</td>\n",
       "    </tr>\n",
       "  </tbody>\n",
       "</table>\n",
       "</div>"
      ],
      "text/plain": [
       "  supplier_location  customer_location shipment_size payment_option  \\\n",
       "0       facility_01             201301         small            cod   \n",
       "1       facility_01             122001         small            cod   \n",
       "2       facility_01             248001         small            cod   \n",
       "3       facility_01             201301         small        prepaid   \n",
       "4       facility_01             800001         small            cod   \n",
       "\n",
       "   product_quantity current_logistics_vendor shipment_zone  \\\n",
       "0              2156                       v1        zone_a   \n",
       "1              1859                       v1        zone_a   \n",
       "2              1805                       v1        zone_b   \n",
       "3              1555                       v1        zone_a   \n",
       "4              1508                       v1        zone_c   \n",
       "\n",
       "   cost_with_vendor_v1  cost_with_vendor_v2  cost_with_vendor_v3  \\\n",
       "0                   50                   90                   50   \n",
       "1                   50                   90                   50   \n",
       "2                   60                   90                   60   \n",
       "3                   30                   30                   30   \n",
       "4                   90                  120                   80   \n",
       "\n",
       "   cost_with_vendor_v4  current_cost  \n",
       "0                   60      107800.0  \n",
       "1                   60       92950.0  \n",
       "2                   70      108300.0  \n",
       "3                   30       46650.0  \n",
       "4                   80      135720.0  "
      ]
     },
     "execution_count": 76,
     "metadata": {},
     "output_type": "execute_result"
    }
   ],
   "source": [
    "# Display the Final DataFrame with Current Cost\n",
    "\n",
    "final_df.head()"
   ]
  },
  {
   "cell_type": "code",
   "execution_count": 78,
   "metadata": {},
   "outputs": [
    {
     "data": {
      "text/plain": [
       "current_logistics_vendor\n",
       "v1    370038040.0\n",
       "v2     12276540.0\n",
       "v3     12715930.0\n",
       "v4     19999380.0\n",
       "Name: current_cost, dtype: float64"
      ]
     },
     "execution_count": 78,
     "metadata": {},
     "output_type": "execute_result"
    }
   ],
   "source": [
    "# Vendor Wise Cost Incurred\n",
    "final_df.groupby('current_logistics_vendor').sum()['current_cost']"
   ]
  },
  {
   "cell_type": "markdown",
   "metadata": {},
   "source": [
    "## Question 3\n",
    "What is the least cost that will be incurred to fulfill this supply network ?\n",
    "\n",
    "<a id='q3' ></a>\n",
    "[Back to Top](#top)\n",
    "\n",
    "Note : All vendors have supply network in all the zones\n",
    "\n",
    "Answer : 349411400"
   ]
  },
  {
   "cell_type": "code",
   "execution_count": 83,
   "metadata": {},
   "outputs": [],
   "source": [
    "# Create Cost for Each Vendor\n",
    "for vendor in vendors:\n",
    "    final_df['cost_{}'.format(vendor)] = final_df.product_quantity * final_df['cost_with_vendor_{}'.format(vendor)]"
   ]
  },
  {
   "cell_type": "code",
   "execution_count": 92,
   "metadata": {
    "collapsed": true
   },
   "outputs": [
    {
     "data": {
      "text/html": [
       "<div>\n",
       "<style scoped>\n",
       "    .dataframe tbody tr th:only-of-type {\n",
       "        vertical-align: middle;\n",
       "    }\n",
       "\n",
       "    .dataframe tbody tr th {\n",
       "        vertical-align: top;\n",
       "    }\n",
       "\n",
       "    .dataframe thead th {\n",
       "        text-align: right;\n",
       "    }\n",
       "</style>\n",
       "<table border=\"1\" class=\"dataframe\">\n",
       "  <thead>\n",
       "    <tr style=\"text-align: right;\">\n",
       "      <th></th>\n",
       "      <th>current_cost</th>\n",
       "      <th>cost_v1</th>\n",
       "      <th>cost_v2</th>\n",
       "      <th>cost_v3</th>\n",
       "      <th>cost_v4</th>\n",
       "    </tr>\n",
       "  </thead>\n",
       "  <tbody>\n",
       "    <tr>\n",
       "      <th>0</th>\n",
       "      <td>107800.0</td>\n",
       "      <td>107800</td>\n",
       "      <td>194040</td>\n",
       "      <td>107800</td>\n",
       "      <td>129360</td>\n",
       "    </tr>\n",
       "    <tr>\n",
       "      <th>1</th>\n",
       "      <td>92950.0</td>\n",
       "      <td>92950</td>\n",
       "      <td>167310</td>\n",
       "      <td>92950</td>\n",
       "      <td>111540</td>\n",
       "    </tr>\n",
       "    <tr>\n",
       "      <th>2</th>\n",
       "      <td>108300.0</td>\n",
       "      <td>108300</td>\n",
       "      <td>162450</td>\n",
       "      <td>108300</td>\n",
       "      <td>126350</td>\n",
       "    </tr>\n",
       "    <tr>\n",
       "      <th>3</th>\n",
       "      <td>46650.0</td>\n",
       "      <td>46650</td>\n",
       "      <td>46650</td>\n",
       "      <td>46650</td>\n",
       "      <td>46650</td>\n",
       "    </tr>\n",
       "    <tr>\n",
       "      <th>4</th>\n",
       "      <td>135720.0</td>\n",
       "      <td>135720</td>\n",
       "      <td>180960</td>\n",
       "      <td>120640</td>\n",
       "      <td>120640</td>\n",
       "    </tr>\n",
       "    <tr>\n",
       "      <th>5</th>\n",
       "      <td>274470.0</td>\n",
       "      <td>274470</td>\n",
       "      <td>405170</td>\n",
       "      <td>209120</td>\n",
       "      <td>352890</td>\n",
       "    </tr>\n",
       "    <tr>\n",
       "      <th>6</th>\n",
       "      <td>61800.0</td>\n",
       "      <td>61800</td>\n",
       "      <td>111240</td>\n",
       "      <td>61800</td>\n",
       "      <td>74160</td>\n",
       "    </tr>\n",
       "    <tr>\n",
       "      <th>7</th>\n",
       "      <td>37050.0</td>\n",
       "      <td>37050</td>\n",
       "      <td>37050</td>\n",
       "      <td>37050</td>\n",
       "      <td>37050</td>\n",
       "    </tr>\n",
       "    <tr>\n",
       "      <th>8</th>\n",
       "      <td>245070.0</td>\n",
       "      <td>245070</td>\n",
       "      <td>361770</td>\n",
       "      <td>186720</td>\n",
       "      <td>315090</td>\n",
       "    </tr>\n",
       "    <tr>\n",
       "      <th>9</th>\n",
       "      <td>207860.0</td>\n",
       "      <td>207860</td>\n",
       "      <td>284440</td>\n",
       "      <td>142220</td>\n",
       "      <td>262560</td>\n",
       "    </tr>\n",
       "    <tr>\n",
       "      <th>10</th>\n",
       "      <td>279760.0</td>\n",
       "      <td>279760</td>\n",
       "      <td>365840</td>\n",
       "      <td>204440</td>\n",
       "      <td>344320</td>\n",
       "    </tr>\n",
       "    <tr>\n",
       "      <th>11</th>\n",
       "      <td>63480.0</td>\n",
       "      <td>63480</td>\n",
       "      <td>95220</td>\n",
       "      <td>63480</td>\n",
       "      <td>74060</td>\n",
       "    </tr>\n",
       "    <tr>\n",
       "      <th>12</th>\n",
       "      <td>94050.0</td>\n",
       "      <td>94050</td>\n",
       "      <td>125400</td>\n",
       "      <td>83600</td>\n",
       "      <td>83600</td>\n",
       "    </tr>\n",
       "    <tr>\n",
       "      <th>13</th>\n",
       "      <td>61920.0</td>\n",
       "      <td>61920</td>\n",
       "      <td>92880</td>\n",
       "      <td>61920</td>\n",
       "      <td>72240</td>\n",
       "    </tr>\n",
       "    <tr>\n",
       "      <th>14</th>\n",
       "      <td>60900.0</td>\n",
       "      <td>60900</td>\n",
       "      <td>91350</td>\n",
       "      <td>60900</td>\n",
       "      <td>71050</td>\n",
       "    </tr>\n",
       "    <tr>\n",
       "      <th>15</th>\n",
       "      <td>85860.0</td>\n",
       "      <td>85860</td>\n",
       "      <td>114480</td>\n",
       "      <td>76320</td>\n",
       "      <td>76320</td>\n",
       "    </tr>\n",
       "    <tr>\n",
       "      <th>16</th>\n",
       "      <td>55440.0</td>\n",
       "      <td>55440</td>\n",
       "      <td>83160</td>\n",
       "      <td>55440</td>\n",
       "      <td>64680</td>\n",
       "    </tr>\n",
       "    <tr>\n",
       "      <th>17</th>\n",
       "      <td>82440.0</td>\n",
       "      <td>82440</td>\n",
       "      <td>109920</td>\n",
       "      <td>73280</td>\n",
       "      <td>73280</td>\n",
       "    </tr>\n",
       "    <tr>\n",
       "      <th>18</th>\n",
       "      <td>42550.0</td>\n",
       "      <td>42550</td>\n",
       "      <td>76590</td>\n",
       "      <td>42550</td>\n",
       "      <td>51060</td>\n",
       "    </tr>\n",
       "    <tr>\n",
       "      <th>19</th>\n",
       "      <td>50760.0</td>\n",
       "      <td>50760</td>\n",
       "      <td>76140</td>\n",
       "      <td>50760</td>\n",
       "      <td>59220</td>\n",
       "    </tr>\n",
       "    <tr>\n",
       "      <th>20</th>\n",
       "      <td>50460.0</td>\n",
       "      <td>50460</td>\n",
       "      <td>75690</td>\n",
       "      <td>50460</td>\n",
       "      <td>58870</td>\n",
       "    </tr>\n",
       "    <tr>\n",
       "      <th>21</th>\n",
       "      <td>74610.0</td>\n",
       "      <td>74610</td>\n",
       "      <td>99480</td>\n",
       "      <td>66320</td>\n",
       "      <td>66320</td>\n",
       "    </tr>\n",
       "    <tr>\n",
       "      <th>22</th>\n",
       "      <td>47760.0</td>\n",
       "      <td>47760</td>\n",
       "      <td>71640</td>\n",
       "      <td>47760</td>\n",
       "      <td>55720</td>\n",
       "    </tr>\n",
       "    <tr>\n",
       "      <th>23</th>\n",
       "      <td>47760.0</td>\n",
       "      <td>47760</td>\n",
       "      <td>71640</td>\n",
       "      <td>47760</td>\n",
       "      <td>55720</td>\n",
       "    </tr>\n",
       "    <tr>\n",
       "      <th>24</th>\n",
       "      <td>47760.0</td>\n",
       "      <td>47760</td>\n",
       "      <td>71640</td>\n",
       "      <td>47760</td>\n",
       "      <td>55720</td>\n",
       "    </tr>\n",
       "    <tr>\n",
       "      <th>25</th>\n",
       "      <td>47700.0</td>\n",
       "      <td>47700</td>\n",
       "      <td>71550</td>\n",
       "      <td>47700</td>\n",
       "      <td>55650</td>\n",
       "    </tr>\n",
       "    <tr>\n",
       "      <th>26</th>\n",
       "      <td>47700.0</td>\n",
       "      <td>47700</td>\n",
       "      <td>71550</td>\n",
       "      <td>47700</td>\n",
       "      <td>55650</td>\n",
       "    </tr>\n",
       "    <tr>\n",
       "      <th>27</th>\n",
       "      <td>147440.0</td>\n",
       "      <td>147440</td>\n",
       "      <td>201760</td>\n",
       "      <td>100880</td>\n",
       "      <td>186240</td>\n",
       "    </tr>\n",
       "    <tr>\n",
       "      <th>28</th>\n",
       "      <td>69570.0</td>\n",
       "      <td>69570</td>\n",
       "      <td>92760</td>\n",
       "      <td>61840</td>\n",
       "      <td>61840</td>\n",
       "    </tr>\n",
       "    <tr>\n",
       "      <th>29</th>\n",
       "      <td>45600.0</td>\n",
       "      <td>45600</td>\n",
       "      <td>68400</td>\n",
       "      <td>45600</td>\n",
       "      <td>53200</td>\n",
       "    </tr>\n",
       "    <tr>\n",
       "      <th>...</th>\n",
       "      <td>...</td>\n",
       "      <td>...</td>\n",
       "      <td>...</td>\n",
       "      <td>...</td>\n",
       "      <td>...</td>\n",
       "    </tr>\n",
       "    <tr>\n",
       "      <th>92821</th>\n",
       "      <td>450.0</td>\n",
       "      <td>450</td>\n",
       "      <td>600</td>\n",
       "      <td>400</td>\n",
       "      <td>400</td>\n",
       "    </tr>\n",
       "    <tr>\n",
       "      <th>92822</th>\n",
       "      <td>450.0</td>\n",
       "      <td>450</td>\n",
       "      <td>600</td>\n",
       "      <td>400</td>\n",
       "      <td>400</td>\n",
       "    </tr>\n",
       "    <tr>\n",
       "      <th>92823</th>\n",
       "      <td>450.0</td>\n",
       "      <td>450</td>\n",
       "      <td>600</td>\n",
       "      <td>400</td>\n",
       "      <td>400</td>\n",
       "    </tr>\n",
       "    <tr>\n",
       "      <th>92824</th>\n",
       "      <td>450.0</td>\n",
       "      <td>450</td>\n",
       "      <td>600</td>\n",
       "      <td>400</td>\n",
       "      <td>400</td>\n",
       "    </tr>\n",
       "    <tr>\n",
       "      <th>92825</th>\n",
       "      <td>2400.0</td>\n",
       "      <td>2400</td>\n",
       "      <td>2800</td>\n",
       "      <td>2050</td>\n",
       "      <td>2050</td>\n",
       "    </tr>\n",
       "    <tr>\n",
       "      <th>92826</th>\n",
       "      <td>450.0</td>\n",
       "      <td>450</td>\n",
       "      <td>600</td>\n",
       "      <td>400</td>\n",
       "      <td>400</td>\n",
       "    </tr>\n",
       "    <tr>\n",
       "      <th>92827</th>\n",
       "      <td>2400.0</td>\n",
       "      <td>2400</td>\n",
       "      <td>2800</td>\n",
       "      <td>2050</td>\n",
       "      <td>2050</td>\n",
       "    </tr>\n",
       "    <tr>\n",
       "      <th>92828</th>\n",
       "      <td>2400.0</td>\n",
       "      <td>2400</td>\n",
       "      <td>2800</td>\n",
       "      <td>2050</td>\n",
       "      <td>2050</td>\n",
       "    </tr>\n",
       "    <tr>\n",
       "      <th>92829</th>\n",
       "      <td>450.0</td>\n",
       "      <td>450</td>\n",
       "      <td>600</td>\n",
       "      <td>400</td>\n",
       "      <td>400</td>\n",
       "    </tr>\n",
       "    <tr>\n",
       "      <th>92830</th>\n",
       "      <td>450.0</td>\n",
       "      <td>450</td>\n",
       "      <td>600</td>\n",
       "      <td>400</td>\n",
       "      <td>400</td>\n",
       "    </tr>\n",
       "    <tr>\n",
       "      <th>92831</th>\n",
       "      <td>300.0</td>\n",
       "      <td>300</td>\n",
       "      <td>350</td>\n",
       "      <td>300</td>\n",
       "      <td>250</td>\n",
       "    </tr>\n",
       "    <tr>\n",
       "      <th>92832</th>\n",
       "      <td>450.0</td>\n",
       "      <td>450</td>\n",
       "      <td>600</td>\n",
       "      <td>400</td>\n",
       "      <td>400</td>\n",
       "    </tr>\n",
       "    <tr>\n",
       "      <th>92833</th>\n",
       "      <td>300.0</td>\n",
       "      <td>300</td>\n",
       "      <td>350</td>\n",
       "      <td>300</td>\n",
       "      <td>250</td>\n",
       "    </tr>\n",
       "    <tr>\n",
       "      <th>92834</th>\n",
       "      <td>450.0</td>\n",
       "      <td>450</td>\n",
       "      <td>600</td>\n",
       "      <td>400</td>\n",
       "      <td>400</td>\n",
       "    </tr>\n",
       "    <tr>\n",
       "      <th>92835</th>\n",
       "      <td>450.0</td>\n",
       "      <td>450</td>\n",
       "      <td>600</td>\n",
       "      <td>400</td>\n",
       "      <td>400</td>\n",
       "    </tr>\n",
       "    <tr>\n",
       "      <th>92836</th>\n",
       "      <td>300.0</td>\n",
       "      <td>300</td>\n",
       "      <td>350</td>\n",
       "      <td>300</td>\n",
       "      <td>250</td>\n",
       "    </tr>\n",
       "    <tr>\n",
       "      <th>92837</th>\n",
       "      <td>2400.0</td>\n",
       "      <td>2400</td>\n",
       "      <td>2800</td>\n",
       "      <td>2050</td>\n",
       "      <td>2050</td>\n",
       "    </tr>\n",
       "    <tr>\n",
       "      <th>92838</th>\n",
       "      <td>300.0</td>\n",
       "      <td>300</td>\n",
       "      <td>350</td>\n",
       "      <td>300</td>\n",
       "      <td>250</td>\n",
       "    </tr>\n",
       "    <tr>\n",
       "      <th>92839</th>\n",
       "      <td>450.0</td>\n",
       "      <td>450</td>\n",
       "      <td>600</td>\n",
       "      <td>400</td>\n",
       "      <td>400</td>\n",
       "    </tr>\n",
       "    <tr>\n",
       "      <th>92840</th>\n",
       "      <td>300.0</td>\n",
       "      <td>300</td>\n",
       "      <td>350</td>\n",
       "      <td>300</td>\n",
       "      <td>250</td>\n",
       "    </tr>\n",
       "    <tr>\n",
       "      <th>92841</th>\n",
       "      <td>300.0</td>\n",
       "      <td>300</td>\n",
       "      <td>350</td>\n",
       "      <td>300</td>\n",
       "      <td>250</td>\n",
       "    </tr>\n",
       "    <tr>\n",
       "      <th>92842</th>\n",
       "      <td>450.0</td>\n",
       "      <td>450</td>\n",
       "      <td>600</td>\n",
       "      <td>400</td>\n",
       "      <td>400</td>\n",
       "    </tr>\n",
       "    <tr>\n",
       "      <th>92843</th>\n",
       "      <td>300.0</td>\n",
       "      <td>300</td>\n",
       "      <td>350</td>\n",
       "      <td>300</td>\n",
       "      <td>250</td>\n",
       "    </tr>\n",
       "    <tr>\n",
       "      <th>92844</th>\n",
       "      <td>2400.0</td>\n",
       "      <td>2400</td>\n",
       "      <td>2800</td>\n",
       "      <td>2050</td>\n",
       "      <td>2050</td>\n",
       "    </tr>\n",
       "    <tr>\n",
       "      <th>92845</th>\n",
       "      <td>450.0</td>\n",
       "      <td>450</td>\n",
       "      <td>600</td>\n",
       "      <td>400</td>\n",
       "      <td>400</td>\n",
       "    </tr>\n",
       "    <tr>\n",
       "      <th>92846</th>\n",
       "      <td>300.0</td>\n",
       "      <td>300</td>\n",
       "      <td>350</td>\n",
       "      <td>300</td>\n",
       "      <td>250</td>\n",
       "    </tr>\n",
       "    <tr>\n",
       "      <th>92847</th>\n",
       "      <td>450.0</td>\n",
       "      <td>450</td>\n",
       "      <td>600</td>\n",
       "      <td>400</td>\n",
       "      <td>400</td>\n",
       "    </tr>\n",
       "    <tr>\n",
       "      <th>92848</th>\n",
       "      <td>450.0</td>\n",
       "      <td>450</td>\n",
       "      <td>600</td>\n",
       "      <td>400</td>\n",
       "      <td>400</td>\n",
       "    </tr>\n",
       "    <tr>\n",
       "      <th>92849</th>\n",
       "      <td>300.0</td>\n",
       "      <td>300</td>\n",
       "      <td>350</td>\n",
       "      <td>300</td>\n",
       "      <td>250</td>\n",
       "    </tr>\n",
       "    <tr>\n",
       "      <th>92850</th>\n",
       "      <td>450.0</td>\n",
       "      <td>450</td>\n",
       "      <td>600</td>\n",
       "      <td>400</td>\n",
       "      <td>400</td>\n",
       "    </tr>\n",
       "  </tbody>\n",
       "</table>\n",
       "<p>92851 rows × 5 columns</p>\n",
       "</div>"
      ],
      "text/plain": [
       "       current_cost  cost_v1  cost_v2  cost_v3  cost_v4\n",
       "0          107800.0   107800   194040   107800   129360\n",
       "1           92950.0    92950   167310    92950   111540\n",
       "2          108300.0   108300   162450   108300   126350\n",
       "3           46650.0    46650    46650    46650    46650\n",
       "4          135720.0   135720   180960   120640   120640\n",
       "5          274470.0   274470   405170   209120   352890\n",
       "6           61800.0    61800   111240    61800    74160\n",
       "7           37050.0    37050    37050    37050    37050\n",
       "8          245070.0   245070   361770   186720   315090\n",
       "9          207860.0   207860   284440   142220   262560\n",
       "10         279760.0   279760   365840   204440   344320\n",
       "11          63480.0    63480    95220    63480    74060\n",
       "12          94050.0    94050   125400    83600    83600\n",
       "13          61920.0    61920    92880    61920    72240\n",
       "14          60900.0    60900    91350    60900    71050\n",
       "15          85860.0    85860   114480    76320    76320\n",
       "16          55440.0    55440    83160    55440    64680\n",
       "17          82440.0    82440   109920    73280    73280\n",
       "18          42550.0    42550    76590    42550    51060\n",
       "19          50760.0    50760    76140    50760    59220\n",
       "20          50460.0    50460    75690    50460    58870\n",
       "21          74610.0    74610    99480    66320    66320\n",
       "22          47760.0    47760    71640    47760    55720\n",
       "23          47760.0    47760    71640    47760    55720\n",
       "24          47760.0    47760    71640    47760    55720\n",
       "25          47700.0    47700    71550    47700    55650\n",
       "26          47700.0    47700    71550    47700    55650\n",
       "27         147440.0   147440   201760   100880   186240\n",
       "28          69570.0    69570    92760    61840    61840\n",
       "29          45600.0    45600    68400    45600    53200\n",
       "...             ...      ...      ...      ...      ...\n",
       "92821         450.0      450      600      400      400\n",
       "92822         450.0      450      600      400      400\n",
       "92823         450.0      450      600      400      400\n",
       "92824         450.0      450      600      400      400\n",
       "92825        2400.0     2400     2800     2050     2050\n",
       "92826         450.0      450      600      400      400\n",
       "92827        2400.0     2400     2800     2050     2050\n",
       "92828        2400.0     2400     2800     2050     2050\n",
       "92829         450.0      450      600      400      400\n",
       "92830         450.0      450      600      400      400\n",
       "92831         300.0      300      350      300      250\n",
       "92832         450.0      450      600      400      400\n",
       "92833         300.0      300      350      300      250\n",
       "92834         450.0      450      600      400      400\n",
       "92835         450.0      450      600      400      400\n",
       "92836         300.0      300      350      300      250\n",
       "92837        2400.0     2400     2800     2050     2050\n",
       "92838         300.0      300      350      300      250\n",
       "92839         450.0      450      600      400      400\n",
       "92840         300.0      300      350      300      250\n",
       "92841         300.0      300      350      300      250\n",
       "92842         450.0      450      600      400      400\n",
       "92843         300.0      300      350      300      250\n",
       "92844        2400.0     2400     2800     2050     2050\n",
       "92845         450.0      450      600      400      400\n",
       "92846         300.0      300      350      300      250\n",
       "92847         450.0      450      600      400      400\n",
       "92848         450.0      450      600      400      400\n",
       "92849         300.0      300      350      300      250\n",
       "92850         450.0      450      600      400      400\n",
       "\n",
       "[92851 rows x 5 columns]"
      ]
     },
     "execution_count": 92,
     "metadata": {},
     "output_type": "execute_result"
    }
   ],
   "source": [
    "# Calculate Total Cost Incurred For All networks\n",
    "\n",
    "final_df[['current_cost', 'cost_v1', 'cost_v2', 'cost_v3', 'cost_v4']]"
   ]
  },
  {
   "cell_type": "code",
   "execution_count": 94,
   "metadata": {
    "scrolled": true
   },
   "outputs": [
    {
     "data": {
      "text/plain": [
       "349411400.0"
      ]
     },
     "execution_count": 94,
     "metadata": {},
     "output_type": "execute_result"
    }
   ],
   "source": [
    "# Sum of Minimum Cost across all products\n",
    "final_df[['current_cost', 'cost_v1', 'cost_v2', 'cost_v3', 'cost_v4']].min(axis=1).sum()"
   ]
  },
  {
   "cell_type": "markdown",
   "metadata": {},
   "source": [
    "## Question 4\n",
    "How much cost savings can be done if we chose the least cost to fulfill this network\n",
    "\n",
    "<a id='q4'></a>\n",
    "[Back to Top](#top)\n",
    "\n",
    "Answer : 71118490 units, 17.13 percentage savings with respect to current cost"
   ]
  },
  {
   "cell_type": "code",
   "execution_count": 96,
   "metadata": {},
   "outputs": [
    {
     "data": {
      "text/plain": [
       "71118490.0"
      ]
     },
     "execution_count": 96,
     "metadata": {},
     "output_type": "execute_result"
    }
   ],
   "source": [
    "original_cost = final_df.current_cost.sum()\n",
    "minimum_cost = 343911400 #From previous question\n",
    "\n",
    "# Cost Savings\n",
    "savings = original_cost - minimum_cost\n",
    "savings"
   ]
  },
  {
   "cell_type": "code",
   "execution_count": 98,
   "metadata": {},
   "outputs": [
    {
     "data": {
      "text/plain": [
       "17.13575135516143"
      ]
     },
     "execution_count": 98,
     "metadata": {},
     "output_type": "execute_result"
    }
   ],
   "source": [
    "# Percentage Savings\n",
    "\n",
    "savings/original_cost * 100"
   ]
  },
  {
   "cell_type": "markdown",
   "metadata": {},
   "source": [
    "# Bonus Questions\n",
    "\n",
    "Any cells below will be used to answer bonus questions\n",
    "\n",
    "<a id='bonus'></a>\n",
    "[Back to Top](#bonus)"
   ]
  },
  {
   "cell_type": "markdown",
   "metadata": {},
   "source": [
    "<a id='bq1'></a>\n",
    "\n",
    "## Bonus Question 1 :\n",
    "\n",
    "Which is the busiest zone\n",
    "\n",
    "Answer : zone_c is the busiest both cost wise and quantity wise"
   ]
  },
  {
   "cell_type": "code",
   "execution_count": 100,
   "metadata": {},
   "outputs": [
    {
     "data": {
      "text/html": [
       "<div>\n",
       "<style scoped>\n",
       "    .dataframe tbody tr th:only-of-type {\n",
       "        vertical-align: middle;\n",
       "    }\n",
       "\n",
       "    .dataframe tbody tr th {\n",
       "        vertical-align: top;\n",
       "    }\n",
       "\n",
       "    .dataframe thead th {\n",
       "        text-align: right;\n",
       "    }\n",
       "</style>\n",
       "<table border=\"1\" class=\"dataframe\">\n",
       "  <thead>\n",
       "    <tr style=\"text-align: right;\">\n",
       "      <th></th>\n",
       "      <th>product_quantity</th>\n",
       "      <th>current_cost</th>\n",
       "    </tr>\n",
       "    <tr>\n",
       "      <th>shipment_zone</th>\n",
       "      <th></th>\n",
       "      <th></th>\n",
       "    </tr>\n",
       "  </thead>\n",
       "  <tbody>\n",
       "    <tr>\n",
       "      <th>zone_a</th>\n",
       "      <td>438352</td>\n",
       "      <td>41582530.0</td>\n",
       "    </tr>\n",
       "    <tr>\n",
       "      <th>zone_b</th>\n",
       "      <td>1361689</td>\n",
       "      <td>141524700.0</td>\n",
       "    </tr>\n",
       "    <tr>\n",
       "      <th>zone_c</th>\n",
       "      <td>1705232</td>\n",
       "      <td>231922660.0</td>\n",
       "    </tr>\n",
       "  </tbody>\n",
       "</table>\n",
       "</div>"
      ],
      "text/plain": [
       "               product_quantity  current_cost\n",
       "shipment_zone                                \n",
       "zone_a                   438352    41582530.0\n",
       "zone_b                  1361689   141524700.0\n",
       "zone_c                  1705232   231922660.0"
      ]
     },
     "execution_count": 100,
     "metadata": {},
     "output_type": "execute_result"
    }
   ],
   "source": [
    "final_df.groupby(by='shipment_zone').sum()[['product_quantity', 'current_cost']]"
   ]
  },
  {
   "cell_type": "markdown",
   "metadata": {},
   "source": [
    "## Bonus Question: 2\n",
    "<a id='bq2'></a>\n",
    "Which zone handles the highest number of large shipments, as percentage of their total shipments.\n",
    "\n",
    "Answer: Zone A has 11 percentage large shipments, while Zone B and C have 1.8 and 0.4 percent respectively.   \n",
    "[Back to Top](#top)"
   ]
  },
  {
   "cell_type": "code",
   "execution_count": 105,
   "metadata": {},
   "outputs": [
    {
     "data": {
      "text/html": [
       "<div>\n",
       "<style scoped>\n",
       "    .dataframe tbody tr th:only-of-type {\n",
       "        vertical-align: middle;\n",
       "    }\n",
       "\n",
       "    .dataframe tbody tr th {\n",
       "        vertical-align: top;\n",
       "    }\n",
       "\n",
       "    .dataframe thead th {\n",
       "        text-align: right;\n",
       "    }\n",
       "</style>\n",
       "<table border=\"1\" class=\"dataframe\">\n",
       "  <thead>\n",
       "    <tr style=\"text-align: right;\">\n",
       "      <th></th>\n",
       "      <th></th>\n",
       "      <th>product_quantity</th>\n",
       "      <th>current_cost</th>\n",
       "    </tr>\n",
       "    <tr>\n",
       "      <th>shipment_zone</th>\n",
       "      <th>shipment_size</th>\n",
       "      <th></th>\n",
       "      <th></th>\n",
       "    </tr>\n",
       "  </thead>\n",
       "  <tbody>\n",
       "    <tr>\n",
       "      <th rowspan=\"3\" valign=\"top\">zone_a</th>\n",
       "      <th>large</th>\n",
       "      <td>593</td>\n",
       "      <td>593</td>\n",
       "    </tr>\n",
       "    <tr>\n",
       "      <th>medium</th>\n",
       "      <td>2083</td>\n",
       "      <td>2083</td>\n",
       "    </tr>\n",
       "    <tr>\n",
       "      <th>small</th>\n",
       "      <td>2401</td>\n",
       "      <td>2401</td>\n",
       "    </tr>\n",
       "    <tr>\n",
       "      <th rowspan=\"3\" valign=\"top\">zone_b</th>\n",
       "      <th>large</th>\n",
       "      <td>672</td>\n",
       "      <td>672</td>\n",
       "    </tr>\n",
       "    <tr>\n",
       "      <th>medium</th>\n",
       "      <td>11181</td>\n",
       "      <td>11181</td>\n",
       "    </tr>\n",
       "    <tr>\n",
       "      <th>small</th>\n",
       "      <td>23710</td>\n",
       "      <td>23710</td>\n",
       "    </tr>\n",
       "    <tr>\n",
       "      <th rowspan=\"3\" valign=\"top\">zone_c</th>\n",
       "      <th>large</th>\n",
       "      <td>235</td>\n",
       "      <td>235</td>\n",
       "    </tr>\n",
       "    <tr>\n",
       "      <th>medium</th>\n",
       "      <td>13975</td>\n",
       "      <td>13975</td>\n",
       "    </tr>\n",
       "    <tr>\n",
       "      <th>small</th>\n",
       "      <td>38001</td>\n",
       "      <td>38001</td>\n",
       "    </tr>\n",
       "  </tbody>\n",
       "</table>\n",
       "</div>"
      ],
      "text/plain": [
       "                             product_quantity  current_cost\n",
       "shipment_zone shipment_size                                \n",
       "zone_a        large                       593           593\n",
       "              medium                     2083          2083\n",
       "              small                      2401          2401\n",
       "zone_b        large                       672           672\n",
       "              medium                    11181         11181\n",
       "              small                     23710         23710\n",
       "zone_c        large                       235           235\n",
       "              medium                    13975         13975\n",
       "              small                     38001         38001"
      ]
     },
     "execution_count": 105,
     "metadata": {},
     "output_type": "execute_result"
    }
   ],
   "source": [
    "gdf = final_df.groupby(by=['shipment_zone', 'shipment_size']).count()[['product_quantity', 'current_cost']]\n",
    "gdf"
   ]
  },
  {
   "cell_type": "code",
   "execution_count": 144,
   "metadata": {
    "scrolled": true
   },
   "outputs": [],
   "source": [
    "indices = gdf.index.get_level_values(level=0).unique()\n",
    "output = {}\n",
    "for index in indices:\n",
    "    q = gdf.loc[index]/gdf.loc[index].sum()\n",
    "    output[index] = q.loc['large', 'product_quantity']"
   ]
  },
  {
   "cell_type": "code",
   "execution_count": 145,
   "metadata": {},
   "outputs": [
    {
     "data": {
      "text/plain": [
       "{'zone_a': 0.1168012605869608,\n",
       " 'zone_b': 0.018896043640862694,\n",
       " 'zone_c': 0.004500967229127961}"
      ]
     },
     "execution_count": 145,
     "metadata": {},
     "output_type": "execute_result"
    }
   ],
   "source": [
    "output"
   ]
  },
  {
   "cell_type": "markdown",
   "metadata": {},
   "source": [
    "## Bonus Question 3\n",
    "<a id='bq3'></a>\n",
    "\n",
    "Who is my most economical vendor\n",
    "\n",
    "Answer : Vendor 3, based just on the current cost, and ignoring other variables    \n",
    "[Back to Top](#top)"
   ]
  },
  {
   "cell_type": "code",
   "execution_count": 147,
   "metadata": {
    "scrolled": true
   },
   "outputs": [
    {
     "data": {
      "text/plain": [
       "current_logistics_vendor\n",
       "v1    370038040.0\n",
       "v2     12276540.0\n",
       "v3     12715930.0\n",
       "v4     19999380.0\n",
       "Name: current_cost, dtype: float64"
      ]
     },
     "execution_count": 147,
     "metadata": {},
     "output_type": "execute_result"
    }
   ],
   "source": [
    "final_df.groupby('current_logistics_vendor').sum()['current_cost']"
   ]
  },
  {
   "cell_type": "markdown",
   "metadata": {},
   "source": [
    "## Bonus Question 4\n",
    "<a id='bq4'></a>\n",
    "\n",
    "If minimum cost network is chosen, what is the now new vendor distribution\n",
    "\n",
    "Answer :\n",
    "\n",
    "v1 : 18 percent   \n",
    "v2 : 0 percent   \n",
    "v3 : 72 percent   \n",
    "v4 : 9 percent  \n",
    "[Back to Top](#top)"
   ]
  },
  {
   "cell_type": "code",
   "execution_count": 153,
   "metadata": {},
   "outputs": [],
   "source": [
    "tdf = final_df[['cost_v1', 'cost_v2', 'cost_v3', 'cost_v4']].copy()\n",
    "tdf['new_vendor'] = tdf.idxmin(axis=1)\n",
    "tdf['new_vendor'] = tdf.new_vendor.apply(lambda x : x[-2:])\n",
    "final_df['new_vendor'] = tdf.new_vendor.copy()\n",
    "final_df['new_cost'] = tdf.min(axis=1)"
   ]
  },
  {
   "cell_type": "code",
   "execution_count": 158,
   "metadata": {},
   "outputs": [
    {
     "data": {
      "text/plain": [
       "new_vendor\n",
       "v1    18.542323\n",
       "v3    72.288683\n",
       "v4     9.168994\n",
       "Name: new_cost, dtype: float64"
      ]
     },
     "execution_count": 158,
     "metadata": {},
     "output_type": "execute_result"
    }
   ],
   "source": [
    "x = final_df.groupby('new_vendor').sum()['new_cost']\n",
    "new_volume = x/x.sum() * 100\n",
    "new_volume"
   ]
  },
  {
   "cell_type": "code",
   "execution_count": 159,
   "metadata": {},
   "outputs": [],
   "source": [
    "import matplotlib.pyplot as plt\n",
    "import seaborn as sns\n",
    "\n",
    "%matplotlib inline"
   ]
  },
  {
   "cell_type": "code",
   "execution_count": 162,
   "metadata": {},
   "outputs": [],
   "source": [
    "sns.set_style('darkgrid')"
   ]
  },
  {
   "cell_type": "code",
   "execution_count": 210,
   "metadata": {},
   "outputs": [],
   "source": [
    "df = pd.DataFrame(data=[old_volume, new_volume], index=['old', 'new'])\n",
    "df.reset_index(inplace=True)\n",
    "df = pd.melt(df, id_vars='index')"
   ]
  },
  {
   "cell_type": "code",
   "execution_count": 211,
   "metadata": {},
   "outputs": [
    {
     "data": {
      "text/html": [
       "<div>\n",
       "<style scoped>\n",
       "    .dataframe tbody tr th:only-of-type {\n",
       "        vertical-align: middle;\n",
       "    }\n",
       "\n",
       "    .dataframe tbody tr th {\n",
       "        vertical-align: top;\n",
       "    }\n",
       "\n",
       "    .dataframe thead th {\n",
       "        text-align: right;\n",
       "    }\n",
       "</style>\n",
       "<table border=\"1\" class=\"dataframe\">\n",
       "  <thead>\n",
       "    <tr style=\"text-align: right;\">\n",
       "      <th></th>\n",
       "      <th>index</th>\n",
       "      <th>variable</th>\n",
       "      <th>value</th>\n",
       "    </tr>\n",
       "  </thead>\n",
       "  <tbody>\n",
       "    <tr>\n",
       "      <th>0</th>\n",
       "      <td>old</td>\n",
       "      <td>v1</td>\n",
       "      <td>88.416936</td>\n",
       "    </tr>\n",
       "    <tr>\n",
       "      <th>1</th>\n",
       "      <td>new</td>\n",
       "      <td>v1</td>\n",
       "      <td>18.542323</td>\n",
       "    </tr>\n",
       "    <tr>\n",
       "      <th>2</th>\n",
       "      <td>old</td>\n",
       "      <td>v2</td>\n",
       "      <td>2.693742</td>\n",
       "    </tr>\n",
       "    <tr>\n",
       "      <th>3</th>\n",
       "      <td>new</td>\n",
       "      <td>v2</td>\n",
       "      <td>NaN</td>\n",
       "    </tr>\n",
       "    <tr>\n",
       "      <th>4</th>\n",
       "      <td>old</td>\n",
       "      <td>v3</td>\n",
       "      <td>3.328928</td>\n",
       "    </tr>\n",
       "    <tr>\n",
       "      <th>5</th>\n",
       "      <td>new</td>\n",
       "      <td>v3</td>\n",
       "      <td>72.288683</td>\n",
       "    </tr>\n",
       "    <tr>\n",
       "      <th>6</th>\n",
       "      <td>old</td>\n",
       "      <td>v4</td>\n",
       "      <td>5.560394</td>\n",
       "    </tr>\n",
       "    <tr>\n",
       "      <th>7</th>\n",
       "      <td>new</td>\n",
       "      <td>v4</td>\n",
       "      <td>9.168994</td>\n",
       "    </tr>\n",
       "  </tbody>\n",
       "</table>\n",
       "</div>"
      ],
      "text/plain": [
       "  index variable      value\n",
       "0   old       v1  88.416936\n",
       "1   new       v1  18.542323\n",
       "2   old       v2   2.693742\n",
       "3   new       v2        NaN\n",
       "4   old       v3   3.328928\n",
       "5   new       v3  72.288683\n",
       "6   old       v4   5.560394\n",
       "7   new       v4   9.168994"
      ]
     },
     "execution_count": 211,
     "metadata": {},
     "output_type": "execute_result"
    }
   ],
   "source": [
    "df"
   ]
  },
  {
   "cell_type": "code",
   "execution_count": 225,
   "metadata": {
    "scrolled": false
   },
   "outputs": [
    {
     "data": {
      "text/plain": [
       "<seaborn.axisgrid.FacetGrid at 0x7f241295d080>"
      ]
     },
     "execution_count": 225,
     "metadata": {},
     "output_type": "execute_result"
    },
    {
     "data": {
      "image/png": "[encoded data removed]",
      "text/plain": [
       "<Figure size 416.625x360 with 1 Axes>"
      ]
     },
     "metadata": {},
     "output_type": "display_data"
    }
   ],
   "source": [
    "sns.factorplot(x='variable', y='value', data=df, hue='index', kind='bar', size=5)"
   ]
  }
 ],
 "metadata": {
  "kernelspec": {
   "display_name": "Python 3",
   "language": "python",
   "name": "python3"
  },
  "language_info": {
   "codemirror_mode": {
    "name": "ipython",
    "version": 3
   },
   "file_extension": ".py",
   "mimetype": "text/x-python",
   "name": "python",
   "nbconvert_exporter": "python",
   "pygments_lexer": "ipython3",
   "version": "3.6.4"
  }
 },
 "nbformat": 4,
 "nbformat_minor": 2
}
